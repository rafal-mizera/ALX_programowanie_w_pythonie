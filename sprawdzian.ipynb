{
 "cells": [
  {
   "cell_type": "markdown",
   "metadata": {},
   "source": [
    "imię: Rafał\n",
    "\n",
    "nazwisko: Mizera"
   ]
  },
  {
   "cell_type": "markdown",
   "metadata": {},
   "source": [
    "### zad 1. \n",
    "\n",
    "Wymień znane Ci struktury danych w Pythonie. Które z nich są mutowalne a które nie?"
   ]
  },
  {
   "cell_type": "code",
   "execution_count": null,
   "metadata": {},
   "outputs": [],
   "source": [
    "Mutowalne: Listy, zbiory, słowniki\n",
    "Niemutowalne: napisy,tuple"
   ]
  },
  {
   "cell_type": "markdown",
   "metadata": {},
   "source": [
    "### zad 2. \n",
    "\n",
    "Czy umiesz wytłumaczyć co to jest sekwencja? Jakie sekwencje znasz?"
   ]
  },
  {
   "cell_type": "code",
   "execution_count": null,
   "metadata": {},
   "outputs": [],
   "source": [
    "sekwencja jest to pewien uporządkowany układ danych"
   ]
  },
  {
   "cell_type": "markdown",
   "metadata": {},
   "source": [
    "### zad 3.\n",
    "\n",
    "Wybierz co trzeci znak z napisu \"abrakadabra\". Przypisz go do zmiennej `tekst`"
   ]
  },
  {
   "cell_type": "code",
   "execution_count": 6,
   "metadata": {},
   "outputs": [
    {
     "name": "stdout",
     "output_type": "stream",
     "text": [
      "\n"
     ]
    }
   ],
   "source": [
    "napis = \"abrakadabra\"\n",
    "\n",
    "tekst = \"\"\n",
    "\n",
    "for x in range(0,len(napis)):\n",
    "    if x % 3 == 0 and x != 0:\n",
    "        tekst += napis[x-1]\n",
    "\n",
    "print(tekst)"
   ]
  },
  {
   "cell_type": "markdown",
   "metadata": {},
   "source": [
    "### zad 4.\n",
    "\n",
    "Zaprezentuj jak działa wyrażenie warunkowe. Postaraj się o przykład pokazujący wszystkie znane Ci aspekty wyrażenia warunkowego\n"
   ]
  },
  {
   "cell_type": "code",
   "execution_count": null,
   "metadata": {},
   "outputs": [],
   "source": [
    "if a > b:\n",
    "    print a\n",
    "elif a = b:\n",
    "    print \"liczby są równe\"\n",
    "else:\n",
    "    print b"
   ]
  },
  {
   "cell_type": "markdown",
   "metadata": {},
   "source": [
    "### zad 5.\n",
    "\n",
    "Zaproponuj przykład użycia pętli `while`. Np. do odliczania od 10 do 0 z pomienięciem 5."
   ]
  },
  {
   "cell_type": "code",
   "execution_count": null,
   "metadata": {},
   "outputs": [],
   "source": [
    "x =10\n",
    "\n",
    "while x > 0:\n",
    "    if x != 5:\n",
    "        print(x)\n",
    "    x -= 1"
   ]
  },
  {
   "cell_type": "markdown",
   "metadata": {},
   "source": [
    "### zad 6. \n",
    "\n",
    "Zaproponuj przykład użycia pętli `for`. W przykładzie użyj słownika i przeiteruj po elementach słownika (`items`)"
   ]
  },
  {
   "cell_type": "code",
   "execution_count": null,
   "metadata": {},
   "outputs": [],
   "source": [
    "slownik = {\"a\":1,\"b\":2,\"c\":3}\n",
    "\n",
    "for el in slownik.items():\n",
    "    print(el)"
   ]
  },
  {
   "cell_type": "markdown",
   "metadata": {},
   "source": [
    "### zad 7.\n",
    "\n",
    "Zdefiniuj funkcję `power`, która przyjmie jeden lub dwa argumenty a i b. Argument b powinien przyjmować wartość domyślną tak, by poniższe wywałania miały sens:\n",
    "    \n",
    "    power(2, 3) == 8\n",
    "    power(4) == 16"
   ]
  },
  {
   "cell_type": "code",
   "execution_count": null,
   "metadata": {},
   "outputs": [],
   "source": [
    "def power(a,b=2):\n",
    "    return a ** b\n"
   ]
  },
  {
   "cell_type": "markdown",
   "metadata": {},
   "source": [
    "### zad 8. \n",
    "\n",
    "napisz funkcję, która przyjmie dowolną liczbę argumentów pozycyjnych i kluczowych i wypisze je na ekranie"
   ]
  },
  {
   "cell_type": "code",
   "execution_count": null,
   "metadata": {},
   "outputs": [],
   "source": [
    "def foo(*args,**kwargs):\n",
    "    for arg,kwarg in args,kwargs.items():\n",
    "        print(arg,kwarg)"
   ]
  },
  {
   "cell_type": "markdown",
   "metadata": {},
   "source": [
    "### zad 9.\n",
    "\n",
    "Zdefiniuj klasę `Osoba`, która będzie reprezentowała osobę. Osoba posiada atrybuty name, last_name, birth_year\n",
    "posiada też atrybut dynamiczny - age, który wylicza wiek na podstawie aktualnego roku i birth_year. Skorzystaj z 'datetime'. Dodatkowo klasa ta powinna mieć metodę info, która wypisz imie, nazwisko i wiek\n",
    "\n",
    "    osoba = Osoba(\"Johny\", \"Bravo\", 2000)\n",
    "    assert osoba.age == 20\n",
    "    assert osoba.info == \"Johny Bravo (20)\"\n"
   ]
  },
  {
   "cell_type": "code",
   "execution_count": null,
   "metadata": {},
   "outputs": [],
   "source": [
    "import  datetime\n",
    "class Osoba:\n",
    "\n",
    "    def __init__(self,name, last_name, birth_year):\n",
    "        self.name = name\n",
    "        self.last_name = last_name\n",
    "        self.birth_year = birth_year\n",
    "    @property\n",
    "    def age(self):\n",
    "        return datetime.date.year - self.birth_year\n",
    "    \n",
    "    def info(self):\n",
    "    return print(f\"Imię: {self.name}, Nazwisko: {self.last_name}, Wiek: {self.age}\")"
   ]
  },
  {
   "cell_type": "markdown",
   "metadata": {},
   "source": [
    "### zad 10. \n",
    "\n",
    "Zdefiniuj klasę Student, która będzie dziedziczyć po klasie Osoba. Student w czasie tworzenia wymaga podania dodatkowego atrybutu - kierunek. W metodzie info należy rozszerzyć działanie metody info z klasy rodzica. Nie należy jednak całkowicie jej nadpisywać\n",
    "\n",
    "    student = Student(\"Johny\", \"Bravo\", 2000, \"physics\")\n",
    "    assert osoba.age == 20\n",
    "    assert osoba.info == \"Johny Bravo (20) - physics\""
   ]
  },
  {
   "cell_type": "code",
   "execution_count": null,
   "metadata": {},
   "outputs": [],
   "source": [
    "class Student(Osoba):\n",
    "    def info(self,kierunek):\n",
    "        self.kierunek = kierunek\n",
    "        return f\"{Student(info)} - {kierunek}\"\n",
    "        "
   ]
  },
  {
   "cell_type": "code",
   "execution_count": null,
   "metadata": {},
   "outputs": [],
   "source": []
  }
 ],
 "metadata": {
  "kernelspec": {
   "display_name": "Python 3",
   "language": "python",
   "name": "python3"
  },
  "language_info": {
   "codemirror_mode": {
    "name": "ipython",
    "version": 3
   },
   "file_extension": ".py",
   "mimetype": "text/x-python",
   "name": "python",
   "nbconvert_exporter": "python",
   "pygments_lexer": "ipython3",
   "version": "3.8.2"
  }
 },
 "nbformat": 4,
 "nbformat_minor": 4
}
